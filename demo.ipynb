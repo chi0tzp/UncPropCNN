{
 "cells": [
  {
   "cell_type": "code",
   "execution_count": 1,
   "metadata": {},
   "outputs": [],
   "source": [
    "import torch"
   ]
  },
  {
   "cell_type": "code",
   "execution_count": 2,
   "metadata": {},
   "outputs": [],
   "source": [
    "# Import uncertainty-aware 2D convolution (UAConv2d)\n",
    "from ualib import UAConv2d\n",
    "\n",
    "# Define random input: x_mean (input means tensor) and x_var (input variances tensor);\n",
    "# Note that x_var's elements should be positive (as variances)\n",
    "batch_size=16\n",
    "inp_channels=3\n",
    "inp_dim=224\n",
    "x_mean = torch.randn(batch_size, inp_channels, inp_dim, inp_dim)\n",
    "x_var = torch.rand(batch_size, inp_channels, inp_dim, inp_dim)\n",
    "\n",
    "# Define an UAConv2D layer\n",
    "uaconv2d = UAConv2d(in_channels=3, out_channels=16, kernel_size=3, stride=1, padding=0)\n",
    "\n",
    "# Forward input (pair of means and variances tensors) through the UAConv2D layer; \n",
    "# the result is again a pair of means and variances tensors. \n",
    "[y_mean, y_var] = uaconv2d([x_mean, x_var])"
   ]
  },
  {
   "cell_type": "code",
   "execution_count": 3,
   "metadata": {},
   "outputs": [],
   "source": [
    "# Import uncertainty-aware ReLU (UAReLU)\n",
    "from ualib import UAReLU\n",
    "\n",
    "# Define an UAReLU layer\n",
    "uarelu = UAReLU()\n",
    "\n",
    "# Apply UAReLU to the output of the previous UAConv2d\n",
    "[y_mean, y_var] = uarelu([y_mean, y_var]) "
   ]
  },
  {
   "cell_type": "code",
   "execution_count": 4,
   "metadata": {},
   "outputs": [],
   "source": [
    "# Import uncertainty-aware average pooling (UAAvgPool2d)\n",
    "from ualib import UAAvgPool2d\n",
    "\n",
    "# Define an UAAvgPool2d layer\n",
    "uaavgpool2d = UAAvgPool2d(kernel_size=2, stride=2)\n",
    "\n",
    "# Apply UAAvgPool2d on the output of the previous UAReLU\n",
    "[y_mean, y_var] = uaavgpool2d([y_mean, y_var]) "
   ]
  },
  {
   "cell_type": "code",
   "execution_count": 5,
   "metadata": {},
   "outputs": [],
   "source": [
    "# Flatten means and variances tensors\n",
    "y_mean = y_mean.view(y_mean.size(0), -1)\n",
    "y_var = y_var.view(y_var.size(0), -1)"
   ]
  },
  {
   "cell_type": "code",
   "execution_count": 6,
   "metadata": {},
   "outputs": [],
   "source": [
    "# Import uncertainty-aware linear (fully-connected) layer (UALinear)\n",
    "from ualib import UALinear\n",
    "\n",
    "# Define an UALinear layer\n",
    "ualinear = UALinear(in_features=y_mean.size(1), out_features=1)\n",
    "\n",
    "# Apply UALinear to the (flattened) output of the previous UAAvgPool2d\n",
    "[y_mean, y_var] = ualinear([y_mean, y_var])"
   ]
  },
  {
   "cell_type": "code",
   "execution_count": 7,
   "metadata": {},
   "outputs": [],
   "source": [
    "# Import uncertainty-aware sigmoid function (UASigmoid)\n",
    "from ualib import UASigmoid\n",
    "\n",
    "# Define an UASigmoid layer\n",
    "uasigmoid = UASigmoid()\n",
    "\n",
    "# Apply UASigmoid to the previous UALinear output\n",
    "[y_mean, y_var] = uasigmoid([y_mean, y_var])"
   ]
  },
  {
   "cell_type": "code",
   "execution_count": 8,
   "metadata": {},
   "outputs": [],
   "source": [
    "# Import uncertainty-aware binary cross entropy loss (UABCELoss)\n",
    "from ualib import UABCELoss\n",
    "\n",
    "# Define UABCELoss function\n",
    "uabce_loss = UABCELoss()\n",
    "\n",
    "# Define random targets\n",
    "targets = torch.empty(batch_size).random_(2)\n",
    "\n",
    "# Compute UABCELoss\n",
    "loss = uabce_loss(y_mean, y_var, targets)"
   ]
  },
  {
   "cell_type": "code",
   "execution_count": null,
   "metadata": {},
   "outputs": [],
   "source": []
  }
 ],
 "metadata": {
  "kernelspec": {
   "display_name": "Python 3",
   "language": "python",
   "name": "python3"
  },
  "language_info": {
   "codemirror_mode": {
    "name": "ipython",
    "version": 3
   },
   "file_extension": ".py",
   "mimetype": "text/x-python",
   "name": "python",
   "nbconvert_exporter": "python",
   "pygments_lexer": "ipython3",
   "version": "3.8.6"
  }
 },
 "nbformat": 4,
 "nbformat_minor": 2
}
